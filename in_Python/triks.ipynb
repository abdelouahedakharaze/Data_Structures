{
 "cells": [
  {
   "cell_type": "markdown",
   "metadata": {},
   "source": [
    "# Python Programming Tricks and Algorithms\n",
    "\n",
    "This notebook demonstrates various programming techniques and algorithms commonly used in Python."
   ]
  },
  {
   "cell_type": "markdown",
   "metadata": {},
   "source": [
    "## 1. Memoization\n",
    "\n",
    "Store results of expensive function calls and reuse them to avoid recalculations."
   ]
  },
  {
   "cell_type": "code",
   "execution_count": null,
   "metadata": {},
   "outputs": [],
   "source": [
    "def fib_memo(n, memo={}):\n",
    "    if n in memo: return memo[n]  # Return stored result if available.\n",
    "    if n <= 2: return 1  # Base case.\n",
    "    memo[n] = fib_memo(n-1, memo) + fib_memo(n-2, memo)  # Store result.\n",
    "    return memo[n]\n",
    "\n",
    "# Test the function\n",
    "print(fib_memo(10))"
   ]
  },
  {
   "cell_type": "markdown",
   "metadata": {},
   "source": [
    "## 2. Dynamic Programming\n",
    "\n",
    "Break problems into subproblems (bottom-up)."
   ]
  },
  {
   "cell_type": "code",
   "execution_count": null,
   "metadata": {},
   "outputs": [],
   "source": [
    "def fib_dp(n):\n",
    "    dp = [0] * (n+1)\n",
    "    dp[1] = dp[2] = 1  # Base cases.\n",
    "    for i in range(3, n+1):\n",
    "        dp[i] = dp[i-1] + dp[i-2]  # Build solution bottom-up.\n",
    "    return dp[n]\n",
    "\n",
    "# Test the function\n",
    "print(fib_dp(10))"
   ]
  },
  {
   "cell_type": "markdown",
   "metadata": {},
   "source": [
    "## 3. Divide and Conquer\n",
    "\n",
    "Solve subproblems recursively and combine the results."
   ]
  },
  {
   "cell_type": "code",
   "execution_count": null,
   "metadata": {},
   "outputs": [],
   "source": [
    "def merge_sort(arr):\n",
    "    if len(arr) <= 1:\n",
    "        return arr  # Base case: single element.\n",
    "    mid = len(arr) // 2\n",
    "    left = merge_sort(arr[:mid])  # Recursively sort left half.\n",
    "    right = merge_sort(arr[mid:])  # Recursively sort right half.\n",
    "    return merge(left, right)  # Merge sorted halves.\n",
    "\n",
    "def merge(left, right):\n",
    "    result = []\n",
    "    i = j = 0\n",
    "    while i < len(left) and j < len(right):\n",
    "        if left[i] < right[j]:\n",
    "            result.append(left[i])\n",
    "            i += 1\n",
    "        else:\n",
    "            result.append(right[j])\n",
    "            j += 1\n",
    "    result.extend(left[i:])\n",
    "    result.extend(right[j:])\n",
    "    return result\n",
    "\n",
    "# Test the function\n",
    "print(merge_sort([3, 1, 4, 1, 5, 9, 2, 6, 5, 3, 5]))"
   ]
  },
  {
   "cell_type": "markdown",
   "metadata": {},
   "source": [
    "## 4. Greedy Algorithm\n",
    "\n",
    "Choose the best local option at each step."
   ]
  },
  {
   "cell_type": "code",
   "execution_count": null,
   "metadata": {},
   "outputs": [],
   "source": [
    "def coin_change_greedy(coins, amount):\n",
    "    coins.sort(reverse=True)\n",
    "    count = 0\n",
    "    for coin in coins:\n",
    "        if amount == 0: break\n",
    "        count += amount // coin  # Choose the largest coin possible.\n",
    "        amount %= coin  # Reduce the amount.\n",
    "    return count if amount == 0 else -1  # Return -1 if exact change is not possible.\n",
    "\n",
    "# Test the function\n",
    "print(coin_change_greedy([25, 10, 5, 1], 67))"
   ]
  },
  {
   "cell_type": "markdown",
   "metadata": {},
   "source": [
    "## 5. Backtracking\n",
    "\n",
    "Explore all possibilities and undo steps if they lead to a dead end."
   ]
  },
  {
   "cell_type": "code",
   "execution_count": null,
   "metadata": {},
   "outputs": [],
   "source": [
    "def solve_n_queens(n):\n",
    "    board = [[\".\"] * n for _ in range(n)]\n",
    "    result = []\n",
    "    \n",
    "    def is_safe(row, col):\n",
    "        for i in range(row):\n",
    "            if board[i][col] == \"Q\" or \\\n",
    "               col-(row-i) >= 0 and board[i][col-(row-i)] == \"Q\" or \\\n",
    "               col+(row-i) < n and board[i][col+(row-i)] == \"Q\":\n",
    "                return False\n",
    "        return True\n",
    "    \n",
    "    def place_queens(row):\n",
    "        if row == n:\n",
    "            result.append([\"\".join(r) for r in board])  # Store solution.\n",
    "            return\n",
    "        for col in range(n):\n",
    "            if is_safe(row, col):\n",
    "                board[row][col] = \"Q\"  # Place queen.\n",
    "                place_queens(row+1)  # Move to next row.\n",
    "                board[row][col] = \".\"  # Backtrack (remove queen).\n",
    "    \n",
    "    place_queens(0)\n",
    "    return result"
   ]
  },
  {
   "cell_type": "markdown",
   "metadata": {},
   "source": [
    "## 6. Binary Search\n",
    "\n",
    "Efficiently search sorted data by dividing the range."
   ]
  },
  {
   "cell_type": "code",
   "execution_count": null,
   "metadata": {},
   "outputs": [],
   "source": [
    "def binary_search(arr, target):\n",
    "    left, right = 0, len(arr)-1\n",
    "    while left <= right:\n",
    "        mid = (left + right) // 2\n",
    "        if arr[mid] == target:\n",
    "            return mid  # Target found.\n",
    "        elif arr[mid] < target:\n",
    "            left = mid + 1  # Search right half.\n",
    "        else:\n",
    "            right = mid - 1  # Search left half.\n",
    "    return -1  # Target not found.\n",
    "\n",
    "# Test the function\n",
    "print(binary_search([1, 3, 5, 7, 9], 5))"
   ]
  },
  {
   "cell_type": "markdown",
   "metadata": {},
   "source": [
    "## 7. Sliding Window\n",
    "\n",
    "Maintain a window to optimize subarray problems."
   ]
  },
  {
   "cell_type": "code",
   "execution_count": null,
   "metadata": {},
   "outputs": [],
   "source": [
    "def max_sum_subarray(arr, k):\n",
    "    max_sum, window_sum = 0, sum(arr[:k])  # Initial window sum.\n",
    "    for i in range(k, len(arr)):\n",
    "        window_sum += arr[i] - arr[i-k]  # Slide window by adding one element and removing one.\n",
    "        max_sum = max(max_sum, window_sum)\n",
    "    return max_sum\n",
    "\n",
    "# Test the function\n",
    "print(max_sum_subarray([1, 4, 2, 10, 23, 3, 1, 0, 20], 4))"
   ]
  },
  {
   "cell_type": "markdown",
   "metadata": {},
   "source": [
    "## 8. Two Pointers\n",
    "\n",
    "Use two indices to solve array problems efficiently."
   ]
  },
  {
   "cell_type": "code",
   "execution_count": null,
   "metadata": {},
   "outputs": [],
   "source": [
    "def two_sum_sorted(arr, target):\n",
    "    left, right = 0, len(arr) - 1\n",
    "    while left < right:\n",
    "        current_sum = arr[left] + arr[right]\n",
    "        if current_sum == target:\n",
    "            return [left, right]  # Return indices of two numbers.\n",
    "        elif current_sum < target:\n",
    "            left += 1  # Move left pointer right to increase sum.\n",
    "        else:\n",
    "            right -= 1  # Move right pointer left to decrease sum.\n",
    "    return []  # No solution.\n",
    "\n",
    "# Test the function\n",
    "print(two_sum_sorted([2, 7, 11, 15], 9))"
   ]
  },
  {
   "cell_type": "markdown",
   "metadata": {},
   "source": [
    "## 9. Recursion\n",
    "\n",
    "Call the function within itself to solve a smaller instance of the problem."
   ]
  },
  {
   "cell_type": "code",
   "execution_count": null,
   "metadata": {},
   "outputs": [],
   "source": [
    "def factorial(n):\n",
    "    if n == 0: return 1  # Base case.\n",
    "    return n * factorial(n-1)  # Recursive step.\n",
    "\n",
    "# Test the function\n",
    "print(factorial(5))"
   ]
  },
  {
   "cell_type": "markdown",
   "metadata": {},
   "source": [
    "## 10. Bit Manipulation\n",
    "\n",
    "Perform operations using binary representations."
   ]
  },
  {
   "cell_type": "code",
   "execution_count": null,
   "metadata": {},
   "outputs": [],
   "source": [
    "def is_power_of_two(n):\n",
    "    return n > 0 and (n & (n - 1)) == 0  # Power of two has only one bit set.\n",
    "\n",
    "# Test the function\n",
    "print(is_power_of_two(16))\n",
    "print(is_power_of_two(18))"
   ]
  },
  {
   "cell_type": "markdown",
   "metadata": {},
   "source": [
    "## 11. Union-Find (Disjoint Set Union)\n",
    "\n",
    "Manage and merge sets efficiently."
   ]
  },
  {
   "cell_type": "code",
   "execution_count": null,
   "metadata": {},
   "outputs": [],
   "source": [
    "class UnionFind:\n",
    "    def __init__(self, n):\n",
    "        self.parent = list(range(n))\n",
    "    \n",
    "    def find(self, p):\n",
    "        if self.parent[p] != p:\n",
    "            self.parent[p] = self.find(self.parent[p])  # Path compression.\n",
    "        return self.parent[p]\n",
    "    \n",
    "    def union(self, p, q):\n",
    "        rootP, rootQ = self.find(p), self.find(q)\n",
    "        if rootP != rootQ:\n",
    "            self.parent[rootP] = rootQ  # Union by connecting the roots.\n",
    "\n",
    "# Test the UnionFind\n",
    "uf = UnionFind(5)\n",
    "uf.union(0, 1)\n",
    "uf.union(2, 3)\n",
    "uf.union(1, 2)\n",
    "print([uf.find(i) for i in range(5)])"
   ]
  },
  {
   "cell_type": "markdown",
   "metadata": {},
   "source": [
    "## 12. Topological Sorting\n",
    "\n",
    "Process tasks with dependencies in order."
   ]
  },
  {
   "cell_type": "code",
   "execution_count": null,
   "metadata": {},
   "outputs": [],
   "source": [
    "from collections import deque\n",
    "\n",
    "def topological_sort(vertices, edges):\n",
    "    in_degree = {i: 0 for i in range(vertices)}\n",
    "    graph = {i: [] for i in range(vertices)}\n",
    "    \n",
    "    for u, v in edges:\n",
    "        graph[u].append(v)\n",
    "        in_degree[v] += 1\n",
    "    \n",
    "    queue = deque([i for i in in_degree if in_degree[i] == 0])\n",
    "    sorted_order = []\n",
    "    \n",
    "    while queue:\n",
    "        vertex = queue.popleft()\n",
    "        sorted_order.append(vertex)\n",
    "        \n",
    "        for neighbor in graph[vertex]:\n",
    "            in_degree[neighbor] -= 1\n",
    "            if in_degree[neighbor] == 0:\n",
    "                queue.append(neighbor)\n",
    "    \n",
    "    return sorted_order if len(sorted_order) == vertices else []  # Return topological order.\n",
    "\n",
    "# Test the function\n",
    "print(topological_sort(4, [(0,1), (0,2), (1,3), (2,3)]))"
   ]
  },
  {
   "cell_type": "markdown",
   "metadata": {},
   "source": [
    "## 13. Kadane's Algorithm\n",
    "\n",
    "Find maximum sum subarray in O(n)."
   ]
  },
  {
   "cell_type": "code",
   "execution_count": null,
   "metadata": {},
   "outputs": [],
   "source": [
    "def max_subarray_sum(arr):\n",
    "    max_ending_here = max_so_far = arr[0]\n",
    "    for x in arr[1:]:\n",
    "        max_ending_here = max(x, max_ending_here + x)  # Choose to continue with current subarray or start a new one.\n",
    "        max_so_far = max(max_so_far, max_ending_here)  # Track the overall maximum.\n",
    "    return max_so_far\n",
    "\n",
    "# Test the function\n",
    "print(max_subarray_sum([-2, 1, -3, 4, -1, 2, 1, -5, 4]))"
   ]
  },
  {
   "cell_type": "markdown",
   "metadata": {},
   "source": [
    "## 14. Trie\n",
    "\n",
    "Efficient prefix-based search."
   ]
  },
  {
   "cell_type": "code",
   "execution_count": null,
   "metadata": {},
   "outputs": [],
   "source": [
    "class TrieNode:\n",
    "    def __init__(self):\n",
    "        self.children = {}\n",
    "        self.is_end_of_word = False\n",
    "\n",
    "class Trie:\n",
    "    def __init__(self):\n",
    "        self.root = TrieNode()\n",
    "    \n",
    "    def insert(self, word):\n",
    "        node = self.root\n",
    "        for char in word:\n",
    "            if char not in node.children:\n",
    "                node.children[char] = TrieNode()\n",
    "            node = node.children[char]\n",
    "        node.is_end_of_word = True\n",
    "    \n",
    "    def search(self, word):\n",
    "        node = self.root\n",
    "        for char in word:\n",
    "            if char not in node.children:\n",
    "                return False\n",
    "            node = node.children[char]\n",
    "        return node.is_end_of_word\n",
    "\n",
    "# Test the Trie\n",
    "trie = Trie()\n",
    "trie.insert(\"apple\")\n",
    "print(trie.search(\"apple\"))   # True\n",
    "print(trie.search(\"app\"))     # False\n",
    "trie.insert(\"app\")\n",
    "print(trie.search(\"app\"))     # True"
   ]
  }
 ],
 "metadata": {
  "kernelspec": {
   "display_name": "Python 3",
   "language": "python",
   "name": "python3"
  },
  "language_info": {
   "codemirror_mode": {
    "name": "ipython",
    "version": 3
   },
   "file_extension": ".py",
   "mimetype": "text/x-python",
   "name": "python",
   "nbconvert_exporter": "python",
   "pygments_lexer": "ipython3",
   "version": "3.8.5"
  }
 },
 "nbformat": 4,
 "nbformat_minor": 4
}
